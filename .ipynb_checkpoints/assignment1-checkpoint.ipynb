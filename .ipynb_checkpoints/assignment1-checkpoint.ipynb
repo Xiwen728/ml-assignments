{
 "cells": [
  {
   "cell_type": "markdown",
   "metadata": {},
   "source": [
    "# Assignment 1: k-nearest neighbors (Programming) \n",
    "\n",
    "Only use the already imported libraries `numpy` and `matplotlib.pyplot` for the assignment. Do not import any other library. "
   ]
  },
  {
   "cell_type": "markdown",
   "metadata": {},
   "source": [
    "| Name                        | Matr. Nr.    | Study Program                     |\n",
    "| ---                         | ---          | ---                               |\n",
    "| Dao Khanh Duy               | 3591406      | INFOTECH M.Sc.                    |\n",
    "| Harshal Sanjay Nandigramwar | 3575008      | INFOTECH M.Sc.                    |\n",
    "| Xiwen Feng                  | 3219649      | Natural Language Processing B.Sc. |"
   ]
  },
  {
   "cell_type": "code",
   "execution_count": 2,
   "metadata": {},
   "outputs": [],
   "source": [
    "# Load required packages and dataset. Do not modify.\n",
    "import matplotlib.pyplot as plt\n",
    "import numpy as np\n",
    "\n",
    "def load_breast_cancer_dataset():\n",
    "    from sklearn import datasets\n",
    "    breast_cancer = datasets.load_breast_cancer()\n",
    "    X = breast_cancer.data\n",
    "    y = breast_cancer.target\n",
    "    return X, y\n",
    "    \n",
    "X, y = load_breast_cancer_dataset()\n"
   ]
  },
  {
   "cell_type": "markdown",
   "metadata": {},
   "source": [
    "## Task 1: Visualization and Preprocessing\n",
    "\n",
    "1) Explain the content of the dataset in few words. What are the input features? What is the classification target? Check out: https://archive.ics.uci.edu/ml/datasets/Breast+Cancer+Wisconsin+(Diagnostic)\n"
   ]
  },
  {
   "cell_type": "markdown",
   "metadata": {},
   "source": [
    "==> *Write your response here.* (double klick here to edit)\n",
    "\n",
    "**Dataset consists of 569 instances with 32 input features:**\n",
    "\n",
    "* radius (mean of distances from center to points on the perimeter)\n",
    "* texture (standard deviation of gray-scale values)\n",
    "* perimeter\n",
    "* area\n",
    "* smoothness (local variation in radius lengths)\n",
    "* compactness (perimeter^2 / area - 1.0)\n",
    "* concavity (severity of concave portions of the contour)\n",
    "* concave points (number of concave portions of the contour)\n",
    "* symmetry\n",
    "* fractal dimension (\"coastline approximation\" - 1)\n",
    "\n",
    "**Classification target is diagnosis of digitized image of a fine needle aspirate (FNA) of a breast mass.**"
   ]
  },
  {
   "cell_type": "markdown",
   "metadata": {},
   "source": [
    "2) Compute and print the following statistics about the dataset:\n",
    "  - Number of samples\n",
    "  - Number of samples per class\n",
    "  - Mean and standard deviation for each input feature\n"
   ]
  },
  {
   "cell_type": "code",
   "execution_count": 3,
   "metadata": {
    "scrolled": true
   },
   "outputs": [
    {
     "name": "stdout",
     "output_type": "stream",
     "text": [
      "Number of samples: 569\n",
      "Number of samples of class 0: 212\n",
      "Number of samples of class 1: 357\n",
      "\n",
      "Feature #0\n",
      "Mean:  14.127291739894552\n",
      "Standard Deviation:  3.520950760711062\n",
      "\n",
      "Feature #1\n",
      "Mean:  19.289648506151142\n",
      "Standard Deviation:  4.297254637090421\n",
      "\n",
      "Feature #2\n",
      "Mean:  91.96903339191564\n",
      "Standard Deviation:  24.27761929305318\n",
      "\n",
      "Feature #3\n",
      "Mean:  654.8891036906855\n",
      "Standard Deviation:  351.60475406323\n",
      "\n",
      "Feature #4\n",
      "Mean:  0.0963602811950791\n",
      "Standard Deviation:  0.014051764066591203\n",
      "\n",
      "Feature #5\n",
      "Mean:  0.10434098418277679\n",
      "Standard Deviation:  0.05276632912535515\n",
      "\n",
      "Feature #6\n",
      "Mean:  0.0887993158172232\n",
      "Standard Deviation:  0.07964972534603185\n",
      "\n",
      "Feature #7\n",
      "Mean:  0.04891914586994728\n",
      "Standard Deviation:  0.03876873246147477\n",
      "\n",
      "Feature #8\n",
      "Mean:  0.18116186291739894\n",
      "Standard Deviation:  0.027390180864268532\n",
      "\n",
      "Feature #9\n",
      "Mean:  0.06279760984182776\n",
      "Standard Deviation:  0.007054155881537345\n",
      "\n",
      "Feature #10\n",
      "Mean:  0.40517205623901575\n",
      "Standard Deviation:  0.27706894152536526\n",
      "\n",
      "Feature #11\n",
      "Mean:  1.2168534270650264\n",
      "Standard Deviation:  0.551163426903576\n",
      "\n",
      "Feature #12\n",
      "Mean:  2.8660592267135327\n",
      "Standard Deviation:  2.0200770991455244\n",
      "\n",
      "Feature #13\n",
      "Mean:  40.337079086116\n",
      "Standard Deviation:  45.45101341563996\n",
      "\n",
      "Feature #14\n",
      "Mean:  0.007040978910369069\n",
      "Standard Deviation:  0.0029998783671144756\n",
      "\n",
      "Feature #15\n",
      "Mean:  0.025478138840070295\n",
      "Standard Deviation:  0.01789243586828196\n",
      "\n",
      "Feature #16\n",
      "Mean:  0.03189371634446397\n",
      "Standard Deviation:  0.030159523121970472\n",
      "\n",
      "Feature #17\n",
      "Mean:  0.011796137082601054\n",
      "Standard Deviation:  0.006164860746471701\n",
      "\n",
      "Feature #18\n",
      "Mean:  0.02054229876977153\n",
      "Standard Deviation:  0.008259104387588135\n",
      "\n",
      "Feature #19\n",
      "Mean:  0.0037949038664323374\n",
      "Standard Deviation:  0.0026437447504047374\n",
      "\n",
      "Feature #20\n",
      "Mean:  16.269189806678387\n",
      "Standard Deviation:  4.828992576060772\n",
      "\n",
      "Feature #21\n",
      "Mean:  25.677223198594024\n",
      "Standard Deviation:  6.1408543185890005\n",
      "\n",
      "Feature #22\n",
      "Mean:  107.26121265377857\n",
      "Standard Deviation:  33.57300156682593\n",
      "\n",
      "Feature #23\n",
      "Mean:  880.5831282952548\n",
      "Standard Deviation:  568.8564589532671\n",
      "\n",
      "Feature #24\n",
      "Mean:  0.13236859402460457\n",
      "Standard Deviation:  0.022812356935544644\n",
      "\n",
      "Feature #25\n",
      "Mean:  0.25426504393673116\n",
      "Standard Deviation:  0.15719817109455372\n",
      "\n",
      "Feature #26\n",
      "Mean:  0.27218848330404216\n",
      "Standard Deviation:  0.20844087461170602\n",
      "\n",
      "Feature #27\n",
      "Mean:  0.11460622319859401\n",
      "Standard Deviation:  0.06567455451119314\n",
      "\n",
      "Feature #28\n",
      "Mean:  0.2900755711775044\n",
      "Standard Deviation:  0.06181307854455481\n",
      "\n",
      "Feature #29\n",
      "Mean:  0.0839458172231986\n",
      "Standard Deviation:  0.01804538930859499\n"
     ]
    }
   ],
   "source": [
    "# Implement your solution here.\n",
    "\n",
    "# No. of samples.\n",
    "print('Number of samples:', X.shape[0])\n",
    "\n",
    "# No. of samples per class.\n",
    "print('Number of samples of class 0:',np.sum(y==0))\n",
    "print('Number of samples of class 1:',np.sum(y==1))\n",
    "\n",
    "# Mean and standard deviation of each input feature.\n",
    "for col in range(X.shape[1]):\n",
    "    print(f'\\nFeature #{col}')\n",
    "    print('Mean: ', np.mean(X[:,col]))\n",
    "    print('Standard Deviation: ', np.std(X[:,col]))\n"
   ]
  },
  {
   "cell_type": "markdown",
   "metadata": {},
   "source": [
    "3) Visualize the variables *radius (mean)* and *texture (mean)* in a scatter plot (*radius (mean)* on the x-axis, *texture (mean)* on the y-axis). Color each point of the plot according to its class."
   ]
  },
  {
   "cell_type": "code",
   "execution_count": 4,
   "metadata": {},
   "outputs": [
    {
     "data": {
      "image/png": "[encoded data removed]",
      "text/plain": [
       "<Figure size 432x288 with 1 Axes>"
      ]
     },
     "metadata": {
      "needs_background": "light"
     },
     "output_type": "display_data"
    }
   ],
   "source": [
    "# Implement your solution here.\n",
    "class0 = np.where(y == 0)\n",
    "class1 = np.where(y == 1)\n",
    "\n",
    "fig = plt.figure()\n",
    "ax = fig.add_subplot(111)\n",
    "ax.set_title('scatter plot')\n",
    "ax.scatter(X[class0,0],X[class0,1],label = '$class0$')\n",
    "ax.scatter(X[class1,0],X[class1,1],label = '$class1$')\n",
    "\n",
    "plt.legend()\n",
    "plt.show()"
   ]
  },
  {
   "cell_type": "markdown",
   "metadata": {},
   "source": [
    "4) Split the dataset randomly into training and test data. 70% of data should be used for training and 30% should be used for testing. Implement the function `train_test_split`. Do not modify the interface of the function."
   ]
  },
  {
   "cell_type": "code",
   "execution_count": 5,
   "metadata": {
    "scrolled": true
   },
   "outputs": [],
   "source": [
    "def train_test_split(X, y):\n",
    "    \"\"\"\n",
    "    Returns X_train, X_test, y_train, y_test, \n",
    "        where X_train and X_test are the input features of the training and test set,\n",
    "        and y_train and y_test are the class labels of the training and test set.\n",
    "    \"\"\"\n",
    "    threshold = int(0.7 * X.shape[0])\n",
    "    rnd_idx = np.random.permutation(X.shape[0])\n",
    "    \n",
    "    X_train = X[rnd_idx[:threshold]]\n",
    "    X_test = X[rnd_idx[threshold:]]\n",
    "    y_train = y[rnd_idx[:threshold]]\n",
    "    y_test = y[rnd_idx[threshold:]]\n",
    "    \n",
    "    return X_train, X_test, y_train, y_test\n",
    "\n",
    "X_train, X_test, y_train, y_test = train_test_split(X, y)\n",
    "\n",
    "assert (X_train.shape[0] + X_test.shape[0]) == X.shape[0]\n",
    "assert (y_train.shape[0] + y_test.shape[0]) == y.shape[0]\n",
    "assert X_train.shape[1] == X_test.shape[1]"
   ]
  },
  {
   "cell_type": "markdown",
   "metadata": {},
   "source": [
    "5) kNN uses a distance measure to identify close neighbors. If the input features are not of the same scale, the distance is not as meaningful, which can negatively impact classification performance. Perform min-max scaling (i.e. scale the values of the input features in such a way that their range is from 0 to 1) on the training and test data. Remember that you should only use information from the training data to perform the scaling on both data sets."
   ]
  },
  {
   "cell_type": "code",
   "execution_count": 21,
   "metadata": {},
   "outputs": [],
   "source": [
    "# Implement your solution here\n",
    "def min_max_scaling(X_train, X_test):\n",
    "    for i in range(X_train.shape[1]):\n",
    "        col_max = np.max(X_train[:,i])\n",
    "        col_min = np.min(X_train[:,i])\n",
    "        X_train[:,i] = (X_train[:,i] - col_min) / (col_max - col_min)\n",
    "        X_test[:,i] = (X_test[:,i] - col_min) / (col_max - col_min) \n",
    "    return X_train, X_test\n",
    "\n",
    "X_train,X_test= min_max_scaling(X_train, X_test)\n",
    "\n",
    "# Test\n",
    "# xtr = np.arange(50.).reshape(5, 10)\n",
    "# xts = np.arange(50.).reshape(5, 10)\n",
    "# print(xtr, xts)\n",
    "# print(min_max_scaling(xtr, xts))"
   ]
  },
  {
   "cell_type": "markdown",
   "metadata": {},
   "source": [
    "## Task 2: k-nearest neighbors \n",
    "*Choose classes randomly if weights are equal for multiple classes*\n",
    "\n",
    "**For B.Sc. Data Science:**  \n",
    "\n",
    "Implement the kNN algorithm with uniform weighting and arbitrary `k`. Fill out the `predict` method of class `KNearestNeighbors`. \n",
    "\n",
    "Use Euclidean distance to determine the nearest neighbors.\n",
    "You can ignore the optional parameter `weights`, which is provided as a field in the kNN class.\n",
    "\n",
    "**For all students other than B.Sc. Data Science:**\n",
    "\n",
    "Implement the kNN algorithm with uniform and distance-based weighting and arbitrary `k`.\n",
    "Fill out the `predict` method of class `KNearestNeighbors`.\n",
    "\n",
    "The parameter `weights` will either contain the string `uniform` or `distance`. \n",
    "- If the value is `uniform`, the classifier should use the Euclidean distance for determining nearest neighbors and uniform weighting. \n",
    "- If the value is a `distance`, the classifier should use the Euclidean distance for determining neares neighbors and perform distance-weighted classification."
   ]
  },
  {
   "cell_type": "code",
   "execution_count": 22,
   "metadata": {},
   "outputs": [],
   "source": [
    "class KNearestNeighbors(object):\n",
    "    def __init__(self, k, weights='uniform'):\n",
    "        self.k = k\n",
    "        self.weights = weights\n",
    "        \n",
    "    def fit(self, X, y):\n",
    "        \"\"\"\n",
    "        This functions saves the training data to be used during the prediction.\n",
    "        \"\"\"\n",
    "        self.X = X\n",
    "        self.y = y\n",
    "    \n",
    "    def predict(self, X):\n",
    "        \"\"\"\n",
    "        Returns a vector of shape (n,) if X has shape (n,d), \n",
    "        where n is the number of samples and d is the number of features.\n",
    "        \"\"\"    \n",
    "        \n",
    "        h=np.array([],dtype=np.int64) \n",
    "        \n",
    "        for i in range(len(X[:,1])):\n",
    "            a=np.array([])\n",
    "            for j in range(0,len(self.X[:,1])):\n",
    "                if self.weights == 'uniform':\n",
    "                    b=euclidean_distance(X[i,:],self.X[j,:])\n",
    "                else:\n",
    "                     b=self.weights(X[i,:],self.X[j,:])\n",
    "                a=np.append(a,b)\n",
    "            index=np.argsort(a)\n",
    "            kindex=np.array([],dtype=np.int64)   \n",
    "            for ii in range(0,self.k):\n",
    "                kindex=np.append(kindex,self.y[index[ii]])\n",
    "            h=np.append(h,np.argmax(np.bincount(kindex)))\n",
    "        return h\n",
    "        \n",
    "\n",
    "    \n",
    "def euclidean_distance(x1, x2):\n",
    "    \"\"\"\n",
    "    Given vectors x1 and x2 with shape (n,) returns distance between vectors as float.\n",
    "    \"\"\"\n",
    "    return np.sqrt(np.sum((x1 - x2) ** 2))"
   ]
  },
  {
   "cell_type": "markdown",
   "metadata": {},
   "source": [
    "## Task 3: Evaluation\n",
    "\n",
    "1) Implement functions to compute precision, recall and F1-score. `y_pred` and `y_true` are the vectors of predicted and true class labels respectively with shape `(n,)`, where `n` is the number of samples. Each function should return a float containing the corresponding score. It is advisable to implement a function for the confusion matrix and reuse it."
   ]
  },
  {
   "cell_type": "code",
   "execution_count": 23,
   "metadata": {},
   "outputs": [],
   "source": [
    "def precision(y_pred, y_true):\n",
    "    # Implement your solution here.\n",
    "    c_Num=np.bincount(y_true)\n",
    "    p_Num=np.bincount(y_pred)\n",
    "    p_V=np.array([],dtype=np.int64)\n",
    "    for i in range(0,len(c_Num)):\n",
    "        aa=np.argwhere((y_pred==y_true) & (y_pred==i))\n",
    "        precision=aa.size/p_Num[i]\n",
    "        p_V=np.append(p_V,precision)\n",
    "    return p_V  \n",
    "        \n",
    "\n",
    "def recall(y_pred, y_true):\n",
    "    # Implement your solution here.\n",
    "    c_Num=np.bincount(y_true)\n",
    "    p_Num=np.bincount(y_pred)\n",
    "    r_V=np.array([],dtype=np.int64)\n",
    "    for i in range(0,len(c_Num)):\n",
    "        aa=np.argwhere((y_pred==y_true) & (y_pred==i))\n",
    "        recall=aa.size/c_Num[i]\n",
    "        r_V=np.append(r_V,recall)\n",
    "    return r_V  \n",
    "\n",
    "\n",
    "def f1score(y_pred, y_true):\n",
    "    # Implement your solution here.\n",
    "    p_V=precision(y_pred, y_true)\n",
    "    r_V=recall(y_pred, y_true)\n",
    "    f_V=np.array([],dtype=np.int64)\n",
    "    for i in range(0,len(p_V)):\n",
    "        f=2*r_V[i]*p_V[i]/(r_V[i]+p_V[i])\n",
    "        f_V=np.append(f_V,f)\n",
    "    return f_V\n",
    "        "
   ]
  },
  {
   "cell_type": "markdown",
   "metadata": {},
   "source": [
    "2) Evaluate the performance of kNN with uniform weighting on the Breast Cancer dataset for `k=1,5,9`. Train each of the `3` classifiers on the training data from Task 1. Perform the predictions on both the training and test data. Then compute precision, recall, and F1-score for each model and for both training and test data. Visualize the performance in a plot, what do you observe?\n",
    "\n",
    "**For all students other than B.Sc. Data Science:** \n",
    "\n",
    "Also evaluate the kNN classifier with Euclidean distance-weighting. Compare the performance to uniform-weighting. How does the performance change compared to uniform weighting for each `k`?"
   ]
  },
  {
   "cell_type": "code",
   "execution_count": 24,
   "metadata": {},
   "outputs": [
    {
     "name": "stdout",
     "output_type": "stream",
     "text": [
      "X_Test precision k= 1  [0.92537313 0.94230769]\n",
      "X_Test recall k= 1  [0.91176471 0.95145631]\n",
      "X_Test f1score k= 1  [0.91851852 0.9468599 ]\n",
      "X_train precision k= 1  [1. 1.]\n",
      "X_train recall k= 1  [1. 1.]\n",
      "X_train f1score k= 1  [1. 1.]\n",
      "X_Test precision k= 3  [0.984375   0.95327103]\n",
      "X_Test recall k= 3  [0.92647059 0.99029126]\n",
      "X_Test f1score k= 3  [0.95454545 0.97142857]\n",
      "X_train precision k= 3  [1.         0.98069498]\n",
      "X_train recall k= 3  [0.96527778 1.        ]\n",
      "X_train f1score k= 3  [0.98233216 0.99025341]\n",
      "X_Test precision k= 5  [0.96923077 0.95283019]\n",
      "X_Test recall k= 5  [0.92647059 0.98058252]\n",
      "X_Test f1score k= 5  [0.94736842 0.96650718]\n",
      "X_train precision k= 5  [0.99275362 0.97307692]\n",
      "X_train recall k= 5  [0.95138889 0.99606299]\n",
      "X_train f1score k= 5  [0.97163121 0.9844358 ]\n",
      "precision [0.92537313 0.94230769]\n",
      "recall [0.91176471 0.95145631]\n",
      "f1score [0.91851852 0.9468599 ]\n"
     ]
    }
   ],
   "source": [
    "# Implement your solution here.\n",
    "for k in [1,3,5]:\n",
    "    erfolg=KNearestNeighbors(k)\n",
    "    erfolg.fit(X_train,y_train)\n",
    "    h=erfolg.predict(X_test)\n",
    "    print('X_Test precision k=',k,'',precision(h, y_test))\n",
    "    print('X_Test recall k=',k,'',recall(h,y_test))\n",
    "    print('X_Test f1score k=',k,'',f1score(h,y_test))\n",
    "    h=erfolg.predict(X_train)\n",
    "    print('X_train precision k=',k,'',precision(h, y_train))\n",
    "    print('X_train recall k=',k,'',recall(h,y_train))\n",
    "    print('X_train f1score k=',k,'',f1score(h,y_train))\n",
    "    \n",
    "def euclidean_distance2(x1, x2):\n",
    "    \"\"\"\n",
    "    Given vectors x1 and x2 with shape (n,) returns distance between vectors as float.\n",
    "    \"\"\"\n",
    "    return np.sqrt(np.sum((x1 - x2)*(x1 - x2)))*100/(0.1+np.sqrt(np.sum((x1 - x2)*(x1 - x2))))\n",
    "\n",
    "erfolg=KNearestNeighbors(1,euclidean_distance2)\n",
    "erfolg.fit(X_train,y_train)\n",
    "h=erfolg.predict(X_test)\n",
    "print('precision',precision(h, y_test))\n",
    "print('recall',recall(h,y_test))\n",
    "print('f1score',f1score(h,y_test))"
   ]
  },
  {
   "cell_type": "markdown",
   "metadata": {},
   "source": [
    "==> *Write your observations here and report your results.* (double klick here to edit)\n",
    "k bigger means that the results will be more precise. However, k can only get to a limit when we make a distance weighting, here i made an example with the weighting function (100/(0.1+x)),and it can also make results more presice"
   ]
  }
 ],
 "metadata": {
  "kernelspec": {
   "display_name": "Python 3 (ipykernel)",
   "language": "python",
   "name": "python3"
  },
  "language_info": {
   "codemirror_mode": {
    "name": "ipython",
    "version": 3
   },
   "file_extension": ".py",
   "mimetype": "text/x-python",
   "name": "python",
   "nbconvert_exporter": "python",
   "pygments_lexer": "ipython3",
   "version": "3.9.5"
  }
 },
 "nbformat": 4,
 "nbformat_minor": 1
}
